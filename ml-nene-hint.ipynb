{
 "cells": [
  {
   "cell_type": "code",
   "execution_count": 1,
   "metadata": {},
   "outputs": [],
   "source": [
    "import numpy as np"
   ]
  },
  {
   "cell_type": "code",
   "execution_count": 2,
   "metadata": {},
   "outputs": [],
   "source": [
    "import pandas as pd"
   ]
  },
  {
   "cell_type": "code",
   "execution_count": 3,
   "metadata": {},
   "outputs": [],
   "source": [
    "import matplotlib.pyplot as pp"
   ]
  },
  {
   "cell_type": "code",
   "execution_count": 4,
   "metadata": {},
   "outputs": [],
   "source": [
    "nrows = 60000"
   ]
  },
  {
   "cell_type": "code",
   "execution_count": 5,
   "metadata": {},
   "outputs": [
    {
     "name": "stdout",
     "output_type": "stream",
     "text": [
      "accuracies.csv\tml-nene-Copy1.ipynb  ml-nene.ipynb\r\n",
      "lost+found\tml-nene-dumb.ipynb   mnist_test.csv\r\n",
      "ml-knn.ipynb\tml-nene-hint.ipynb   mnist_train.csv\r\n"
     ]
    }
   ],
   "source": [
    "!ls"
   ]
  },
  {
   "cell_type": "code",
   "execution_count": 6,
   "metadata": {},
   "outputs": [],
   "source": [
    "mnist_test = pd.read_csv('./mnist_test.csv', header=None)"
   ]
  },
  {
   "cell_type": "code",
   "execution_count": 7,
   "metadata": {},
   "outputs": [],
   "source": [
    "mnist_train = pd.read_csv('./mnist_train.csv', header=None, nrows=nrows)"
   ]
  },
  {
   "cell_type": "code",
   "execution_count": null,
   "metadata": {},
   "outputs": [],
   "source": []
  },
  {
   "cell_type": "code",
   "execution_count": 8,
   "metadata": {},
   "outputs": [],
   "source": [
    "cnames = [\"label\"] + ['px_%s.%s' % (x,y) for x in range(28) for y in range(28)]"
   ]
  },
  {
   "cell_type": "code",
   "execution_count": null,
   "metadata": {},
   "outputs": [],
   "source": []
  },
  {
   "cell_type": "code",
   "execution_count": 9,
   "metadata": {},
   "outputs": [],
   "source": [
    "mnist_train.columns = cnames"
   ]
  },
  {
   "cell_type": "code",
   "execution_count": 10,
   "metadata": {},
   "outputs": [],
   "source": [
    "mnist_test.columns = cnames"
   ]
  },
  {
   "cell_type": "code",
   "execution_count": null,
   "metadata": {},
   "outputs": [],
   "source": []
  },
  {
   "cell_type": "code",
   "execution_count": 11,
   "metadata": {},
   "outputs": [],
   "source": [
    "image_size = 28"
   ]
  },
  {
   "cell_type": "code",
   "execution_count": null,
   "metadata": {},
   "outputs": [],
   "source": []
  },
  {
   "cell_type": "code",
   "execution_count": 12,
   "metadata": {},
   "outputs": [],
   "source": [
    "label_train = mnist_train['label'].values"
   ]
  },
  {
   "cell_type": "code",
   "execution_count": 13,
   "metadata": {},
   "outputs": [
    {
     "data": {
      "text/plain": [
       "(60000,)"
      ]
     },
     "execution_count": 13,
     "metadata": {},
     "output_type": "execute_result"
    }
   ],
   "source": [
    "label_train.shape"
   ]
  },
  {
   "cell_type": "code",
   "execution_count": null,
   "metadata": {},
   "outputs": [],
   "source": []
  },
  {
   "cell_type": "code",
   "execution_count": 14,
   "metadata": {},
   "outputs": [],
   "source": [
    "label_test = mnist_test['label'].values"
   ]
  },
  {
   "cell_type": "code",
   "execution_count": 15,
   "metadata": {},
   "outputs": [
    {
     "data": {
      "text/plain": [
       "(10000,)"
      ]
     },
     "execution_count": 15,
     "metadata": {},
     "output_type": "execute_result"
    }
   ],
   "source": [
    "label_test.shape"
   ]
  },
  {
   "cell_type": "code",
   "execution_count": null,
   "metadata": {},
   "outputs": [],
   "source": []
  },
  {
   "cell_type": "code",
   "execution_count": 16,
   "metadata": {},
   "outputs": [],
   "source": [
    "image_train = mnist_train.values[:, 1:]"
   ]
  },
  {
   "cell_type": "code",
   "execution_count": 17,
   "metadata": {},
   "outputs": [
    {
     "data": {
      "text/plain": [
       "(60000, 784)"
      ]
     },
     "execution_count": 17,
     "metadata": {},
     "output_type": "execute_result"
    }
   ],
   "source": [
    "image_train.shape"
   ]
  },
  {
   "cell_type": "code",
   "execution_count": null,
   "metadata": {},
   "outputs": [],
   "source": []
  },
  {
   "cell_type": "code",
   "execution_count": 18,
   "metadata": {},
   "outputs": [],
   "source": [
    "image_test = mnist_test.values[:, 1:]"
   ]
  },
  {
   "cell_type": "code",
   "execution_count": 19,
   "metadata": {},
   "outputs": [
    {
     "data": {
      "text/plain": [
       "(10000, 784)"
      ]
     },
     "execution_count": 19,
     "metadata": {},
     "output_type": "execute_result"
    }
   ],
   "source": [
    "image_test.shape"
   ]
  },
  {
   "cell_type": "code",
   "execution_count": null,
   "metadata": {},
   "outputs": [],
   "source": []
  },
  {
   "cell_type": "code",
   "execution_count": 20,
   "metadata": {},
   "outputs": [],
   "source": [
    "image_train = image_train.reshape(nrows, 28, 28)"
   ]
  },
  {
   "cell_type": "code",
   "execution_count": 21,
   "metadata": {},
   "outputs": [],
   "source": [
    "image_test = image_test.reshape(10000, 28, 28)"
   ]
  },
  {
   "cell_type": "code",
   "execution_count": null,
   "metadata": {},
   "outputs": [],
   "source": []
  },
  {
   "cell_type": "code",
   "execution_count": null,
   "metadata": {},
   "outputs": [],
   "source": []
  },
  {
   "cell_type": "code",
   "execution_count": 22,
   "metadata": {},
   "outputs": [],
   "source": [
    "from sklearn.metrics import accuracy_score, confusion_matrix"
   ]
  },
  {
   "cell_type": "code",
   "execution_count": null,
   "metadata": {},
   "outputs": [],
   "source": []
  },
  {
   "cell_type": "code",
   "execution_count": 23,
   "metadata": {},
   "outputs": [],
   "source": [
    "lines_train = image_train.reshape(nrows, 784)"
   ]
  },
  {
   "cell_type": "code",
   "execution_count": 24,
   "metadata": {},
   "outputs": [],
   "source": [
    "lines_test = image_test.reshape(10000, 784)"
   ]
  },
  {
   "cell_type": "code",
   "execution_count": null,
   "metadata": {},
   "outputs": [],
   "source": []
  },
  {
   "cell_type": "code",
   "execution_count": 25,
   "metadata": {},
   "outputs": [],
   "source": [
    "from sklearn.neural_network import MLPClassifier"
   ]
  },
  {
   "cell_type": "code",
   "execution_count": 26,
   "metadata": {},
   "outputs": [],
   "source": [
    "#activations = [ 'identity', 'logistic', 'tanh', 'relu']\n",
    "activations = [ 'relu']"
   ]
  },
  {
   "cell_type": "code",
   "execution_count": null,
   "metadata": {},
   "outputs": [],
   "source": []
  },
  {
   "cell_type": "code",
   "execution_count": 27,
   "metadata": {},
   "outputs": [],
   "source": [
    "def hls_equals(value):\n",
    "    return (value, value)\n",
    "\n",
    "def hls_divby2(value):\n",
    "    return (value, value // 2)\n",
    "\n",
    "def hls_divby3(value):\n",
    "    return (value, value // 3)\n",
    "\n",
    "def hls_divby4(value):\n",
    "    return (value, value // 4)"
   ]
  },
  {
   "cell_type": "code",
   "execution_count": null,
   "metadata": {},
   "outputs": [],
   "source": []
  },
  {
   "cell_type": "code",
   "execution_count": 28,
   "metadata": {},
   "outputs": [],
   "source": [
    "hlss = {\n",
    "    'divby2': hls_divby2,\n",
    "    'divby3': hls_divby3,\n",
    "    'divby4': hls_divby4,\n",
    "    'equals': hls_equals,\n",
    "}"
   ]
  },
  {
   "cell_type": "code",
   "execution_count": null,
   "metadata": {},
   "outputs": [],
   "source": []
  },
  {
   "cell_type": "code",
   "execution_count": 29,
   "metadata": {},
   "outputs": [],
   "source": [
    "def try_activations(ranges, hlsf):\n",
    "    ranges = list(ranges)\n",
    "    accuracies = np.zeros((len(ranges), len(activations)))\n",
    "    \n",
    "    for i, factor in enumerate(ranges):\n",
    "        hls = hlsf(factor)\n",
    "        \n",
    "        for j, activation in enumerate(activations):\n",
    "            print(f'run: {activation} @ {hls}')\n",
    "            mlpc = MLPClassifier(activation=activation, random_state=0, hidden_layer_sizes=hls)\n",
    "            %time mlpc = mlpc.fit(lines_train, label_train)\n",
    "\n",
    "            pp.plot(range(mlpc.n_iter_), mlpc.loss_curve_)\n",
    "            pp.show()\n",
    "            print()\n",
    "\n",
    "            preds_test = mlpc.predict(lines_test)\n",
    "\n",
    "            accuracies[i, j] = accuracy_score(label_test, preds_test)\n",
    "            print(accuracies[i, j])\n",
    "            print()\n",
    "\n",
    "\n",
    "        #print (f'hidden layer sizes: {hls}')\n",
    "        #pp.bar(activations, accuracies[i, :])\n",
    "        #pp.show()\n",
    "        \n",
    "    #print(f'per-activation effectiveness')\n",
    "\n",
    "    #str_ranges = [str(factor) for factor in ranges]\n",
    "    #for j, activation in enumerate(activations):\n",
    "    #    print(f'activation: {activation}')\n",
    "    #    pp.bar(str_ranges, accuracies[:, j])\n",
    "    #    pp.show()\n",
    "        \n",
    "    return accuracies"
   ]
  },
  {
   "cell_type": "code",
   "execution_count": 30,
   "metadata": {},
   "outputs": [],
   "source": [
    "factors = list(range(800, 0, -100))"
   ]
  },
  {
   "cell_type": "code",
   "execution_count": null,
   "metadata": {},
   "outputs": [],
   "source": []
  },
  {
   "cell_type": "code",
   "execution_count": 31,
   "metadata": {
    "scrolled": false
   },
   "outputs": [
    {
     "name": "stdout",
     "output_type": "stream",
     "text": [
      "run: relu @ (800, 400)\n",
      "CPU times: user 10min 31s, sys: 20min 43s, total: 31min 15s\n",
      "Wall time: 3min 53s\n"
     ]
    },
    {
     "data": {
      "image/png": "[encoded data removed]",
      "text/plain": [
       "<Figure size 432x288 with 1 Axes>"
      ]
     },
     "metadata": {},
     "output_type": "display_data"
    },
    {
     "name": "stdout",
     "output_type": "stream",
     "text": [
      "\n",
      "0.9638\n",
      "\n",
      "run: relu @ (700, 350)\n",
      "CPU times: user 27min 41s, sys: 49min 32s, total: 1h 17min 13s\n",
      "Wall time: 9min 32s\n"
     ]
    },
    {
     "data": {
      "image/png": "[encoded data removed]",
      "text/plain": [
       "<Figure size 432x288 with 1 Axes>"
      ]
     },
     "metadata": {},
     "output_type": "display_data"
    },
    {
     "name": "stdout",
     "output_type": "stream",
     "text": [
      "\n",
      "0.9751\n",
      "\n",
      "run: relu @ (600, 300)\n",
      "CPU times: user 5min 31s, sys: 10min 31s, total: 16min 3s\n",
      "Wall time: 1min 58s\n"
     ]
    },
    {
     "data": {
      "image/png": "[encoded data removed]",
      "text/plain": [
       "<Figure size 432x288 with 1 Axes>"
      ]
     },
     "metadata": {},
     "output_type": "display_data"
    },
    {
     "name": "stdout",
     "output_type": "stream",
     "text": [
      "\n",
      "0.9616\n",
      "\n",
      "run: relu @ (500, 250)\n",
      "CPU times: user 6min 41s, sys: 13min 24s, total: 20min 6s\n",
      "Wall time: 2min 30s\n"
     ]
    },
    {
     "data": {
      "image/png": "[encoded data removed]",
      "text/plain": [
       "<Figure size 432x288 with 1 Axes>"
      ]
     },
     "metadata": {},
     "output_type": "display_data"
    },
    {
     "name": "stdout",
     "output_type": "stream",
     "text": [
      "\n",
      "0.9697\n",
      "\n",
      "run: relu @ (400, 200)\n",
      "CPU times: user 3min 45s, sys: 7min 30s, total: 11min 16s\n",
      "Wall time: 1min 24s\n"
     ]
    },
    {
     "data": {
      "image/png": "[encoded data removed]",
      "text/plain": [
       "<Figure size 432x288 with 1 Axes>"
      ]
     },
     "metadata": {},
     "output_type": "display_data"
    },
    {
     "name": "stdout",
     "output_type": "stream",
     "text": [
      "\n",
      "0.9643\n",
      "\n",
      "run: relu @ (300, 150)\n",
      "CPU times: user 7min 7s, sys: 14min 42s, total: 21min 49s\n",
      "Wall time: 2min 43s\n"
     ]
    },
    {
     "data": {
      "image/png": "[encoded data removed]",
      "text/plain": [
       "<Figure size 432x288 with 1 Axes>"
      ]
     },
     "metadata": {},
     "output_type": "display_data"
    },
    {
     "name": "stdout",
     "output_type": "stream",
     "text": [
      "\n",
      "0.9741\n",
      "\n",
      "run: relu @ (200, 100)\n",
      "CPU times: user 4min 3s, sys: 8min 18s, total: 12min 21s\n",
      "Wall time: 1min 34s\n"
     ]
    },
    {
     "data": {
      "image/png": "[encoded data removed]",
      "text/plain": [
       "<Figure size 432x288 with 1 Axes>"
      ]
     },
     "metadata": {},
     "output_type": "display_data"
    },
    {
     "name": "stdout",
     "output_type": "stream",
     "text": [
      "\n",
      "0.9633\n",
      "\n",
      "run: relu @ (100, 50)\n",
      "CPU times: user 3min 39s, sys: 8min 36s, total: 12min 15s\n",
      "Wall time: 1min 34s\n"
     ]
    },
    {
     "data": {
      "image/png": "[encoded data removed]",
      "text/plain": [
       "<Figure size 432x288 with 1 Axes>"
      ]
     },
     "metadata": {},
     "output_type": "display_data"
    },
    {
     "name": "stdout",
     "output_type": "stream",
     "text": [
      "\n",
      "0.9682\n",
      "\n",
      "run: relu @ (800, 266)\n",
      "CPU times: user 7min 8s, sys: 13min 21s, total: 20min 29s\n",
      "Wall time: 2min 28s\n"
     ]
    },
    {
     "data": {
      "image/png": "[encoded data removed]",
      "text/plain": [
       "<Figure size 432x288 with 1 Axes>"
      ]
     },
     "metadata": {},
     "output_type": "display_data"
    },
    {
     "name": "stdout",
     "output_type": "stream",
     "text": [
      "\n",
      "0.9609\n",
      "\n",
      "run: relu @ (700, 233)\n",
      "CPU times: user 5min 32s, sys: 11min 22s, total: 16min 54s\n",
      "Wall time: 2min 3s\n"
     ]
    },
    {
     "data": {
      "image/png": "[encoded data removed]",
      "text/plain": [
       "<Figure size 432x288 with 1 Axes>"
      ]
     },
     "metadata": {},
     "output_type": "display_data"
    },
    {
     "name": "stdout",
     "output_type": "stream",
     "text": [
      "\n",
      "0.9619\n",
      "\n",
      "run: relu @ (600, 200)\n",
      "CPU times: user 8min 28s, sys: 15min 5s, total: 23min 33s\n",
      "Wall time: 2min 52s\n"
     ]
    },
    {
     "data": {
      "image/png": "[encoded data removed]",
      "text/plain": [
       "<Figure size 432x288 with 1 Axes>"
      ]
     },
     "metadata": {},
     "output_type": "display_data"
    },
    {
     "name": "stdout",
     "output_type": "stream",
     "text": [
      "\n",
      "0.9674\n",
      "\n",
      "run: relu @ (500, 166)\n",
      "CPU times: user 7min 56s, sys: 14min 19s, total: 22min 15s\n",
      "Wall time: 2min 9s\n"
     ]
    },
    {
     "data": {
      "image/png": "[encoded data removed]",
      "text/plain": [
       "<Figure size 432x288 with 1 Axes>"
      ]
     },
     "metadata": {},
     "output_type": "display_data"
    },
    {
     "name": "stdout",
     "output_type": "stream",
     "text": [
      "\n",
      "0.9652\n",
      "\n",
      "run: relu @ (400, 133)\n",
      "CPU times: user 10min 13s, sys: 16min 33s, total: 26min 46s\n",
      "Wall time: 1min 44s\n"
     ]
    },
    {
     "data": {
      "image/png": "[encoded data removed]",
      "text/plain": [
       "<Figure size 432x288 with 1 Axes>"
      ]
     },
     "metadata": {},
     "output_type": "display_data"
    },
    {
     "name": "stdout",
     "output_type": "stream",
     "text": [
      "\n",
      "0.9738\n",
      "\n",
      "run: relu @ (300, 100)\n",
      "CPU times: user 8min 36s, sys: 13min 22s, total: 21min 59s\n",
      "Wall time: 1min 26s\n"
     ]
    },
    {
     "data": {
      "image/png": "[encoded data removed]",
      "text/plain": [
       "<Figure size 432x288 with 1 Axes>"
      ]
     },
     "metadata": {},
     "output_type": "display_data"
    },
    {
     "name": "stdout",
     "output_type": "stream",
     "text": [
      "\n",
      "0.9732\n",
      "\n",
      "run: relu @ (200, 66)\n",
      "CPU times: user 4min 1s, sys: 6min 58s, total: 11min\n",
      "Wall time: 44.3 s\n"
     ]
    },
    {
     "data": {
      "image/png": "[encoded data removed]",
      "text/plain": [
       "<Figure size 432x288 with 1 Axes>"
      ]
     },
     "metadata": {},
     "output_type": "display_data"
    },
    {
     "name": "stdout",
     "output_type": "stream",
     "text": [
      "\n",
      "0.9675\n",
      "\n",
      "run: relu @ (100, 33)\n",
      "CPU times: user 4min 16s, sys: 7min 32s, total: 11min 48s\n",
      "Wall time: 48.5 s\n"
     ]
    },
    {
     "data": {
      "image/png": "[encoded data removed]",
      "text/plain": [
       "<Figure size 432x288 with 1 Axes>"
      ]
     },
     "metadata": {},
     "output_type": "display_data"
    },
    {
     "name": "stdout",
     "output_type": "stream",
     "text": [
      "\n",
      "0.9643\n",
      "\n",
      "run: relu @ (800, 200)\n",
      "CPU times: user 11min 58s, sys: 18min 39s, total: 30min 38s\n",
      "Wall time: 1min 57s\n"
     ]
    },
    {
     "data": {
      "image/png": "[encoded data removed]",
      "text/plain": [
       "<Figure size 432x288 with 1 Axes>"
      ]
     },
     "metadata": {},
     "output_type": "display_data"
    },
    {
     "name": "stdout",
     "output_type": "stream",
     "text": [
      "\n",
      "0.968\n",
      "\n",
      "run: relu @ (700, 175)\n",
      "CPU times: user 7min 42s, sys: 11min 49s, total: 19min 31s\n",
      "Wall time: 1min 15s\n"
     ]
    },
    {
     "data": {
      "image/png": "[encoded data removed]",
      "text/plain": [
       "<Figure size 432x288 with 1 Axes>"
      ]
     },
     "metadata": {},
     "output_type": "display_data"
    },
    {
     "name": "stdout",
     "output_type": "stream",
     "text": [
      "\n",
      "0.9646\n",
      "\n",
      "run: relu @ (600, 150)\n",
      "CPU times: user 12min 50s, sys: 19min 40s, total: 32min 31s\n",
      "Wall time: 2min 5s\n"
     ]
    },
    {
     "data": {
      "image/png": "[encoded data removed]",
      "text/plain": [
       "<Figure size 432x288 with 1 Axes>"
      ]
     },
     "metadata": {},
     "output_type": "display_data"
    },
    {
     "name": "stdout",
     "output_type": "stream",
     "text": [
      "\n",
      "0.9759\n",
      "\n",
      "run: relu @ (500, 125)\n",
      "CPU times: user 12min 49s, sys: 19min 59s, total: 32min 48s\n",
      "Wall time: 2min 7s\n"
     ]
    },
    {
     "data": {
      "image/png": "[encoded data removed]",
      "text/plain": [
       "<Figure size 432x288 with 1 Axes>"
      ]
     },
     "metadata": {},
     "output_type": "display_data"
    },
    {
     "name": "stdout",
     "output_type": "stream",
     "text": [
      "\n",
      "0.9782\n",
      "\n",
      "run: relu @ (400, 100)\n",
      "CPU times: user 7min 38s, sys: 12min 6s, total: 19min 44s\n",
      "Wall time: 1min 17s\n"
     ]
    },
    {
     "data": {
      "image/png": "[encoded data removed]",
      "text/plain": [
       "<Figure size 432x288 with 1 Axes>"
      ]
     },
     "metadata": {},
     "output_type": "display_data"
    },
    {
     "name": "stdout",
     "output_type": "stream",
     "text": [
      "\n",
      "0.9698\n",
      "\n",
      "run: relu @ (300, 75)\n",
      "CPU times: user 7min 11s, sys: 11min 26s, total: 18min 37s\n",
      "Wall time: 1min 13s\n"
     ]
    },
    {
     "data": {
      "image/png": "[encoded data removed]",
      "text/plain": [
       "<Figure size 432x288 with 1 Axes>"
      ]
     },
     "metadata": {},
     "output_type": "display_data"
    },
    {
     "name": "stdout",
     "output_type": "stream",
     "text": [
      "\n",
      "0.9726\n",
      "\n",
      "run: relu @ (200, 50)\n",
      "CPU times: user 5min 51s, sys: 10min 33s, total: 16min 25s\n",
      "Wall time: 1min 5s\n"
     ]
    },
    {
     "data": {
      "image/png": "[encoded data removed]",
      "text/plain": [
       "<Figure size 432x288 with 1 Axes>"
      ]
     },
     "metadata": {},
     "output_type": "display_data"
    },
    {
     "name": "stdout",
     "output_type": "stream",
     "text": [
      "\n",
      "0.9709\n",
      "\n",
      "run: relu @ (100, 25)\n",
      "CPU times: user 4min 25s, sys: 7min 41s, total: 12min 7s\n",
      "Wall time: 50 s\n"
     ]
    },
    {
     "data": {
      "image/png": "[encoded data removed]",
      "text/plain": [
       "<Figure size 432x288 with 1 Axes>"
      ]
     },
     "metadata": {},
     "output_type": "display_data"
    },
    {
     "name": "stdout",
     "output_type": "stream",
     "text": [
      "\n",
      "0.9694\n",
      "\n",
      "run: relu @ (800, 800)\n",
      "CPU times: user 18min 10s, sys: 27min 19s, total: 45min 30s\n",
      "Wall time: 2min 53s\n"
     ]
    },
    {
     "data": {
      "image/png": "[encoded data removed]",
      "text/plain": [
       "<Figure size 432x288 with 1 Axes>"
      ]
     },
     "metadata": {},
     "output_type": "display_data"
    },
    {
     "name": "stdout",
     "output_type": "stream",
     "text": [
      "\n",
      "0.9672\n",
      "\n",
      "run: relu @ (700, 700)\n",
      "CPU times: user 17min 51s, sys: 27min 24s, total: 45min 16s\n",
      "Wall time: 2min 52s\n"
     ]
    },
    {
     "data": {
      "image/png": "[encoded data removed]",
      "text/plain": [
       "<Figure size 432x288 with 1 Axes>"
      ]
     },
     "metadata": {},
     "output_type": "display_data"
    },
    {
     "name": "stdout",
     "output_type": "stream",
     "text": [
      "\n",
      "0.9702\n",
      "\n",
      "run: relu @ (600, 600)\n",
      "CPU times: user 22min 11s, sys: 33min 38s, total: 55min 50s\n",
      "Wall time: 3min 33s\n"
     ]
    },
    {
     "data": {
      "image/png": "[encoded data removed]",
      "text/plain": [
       "<Figure size 432x288 with 1 Axes>"
      ]
     },
     "metadata": {},
     "output_type": "display_data"
    },
    {
     "name": "stdout",
     "output_type": "stream",
     "text": [
      "\n",
      "0.9682\n",
      "\n",
      "run: relu @ (500, 500)\n",
      "CPU times: user 12min 27s, sys: 18min 19s, total: 30min 47s\n",
      "Wall time: 1min 58s\n"
     ]
    },
    {
     "data": {
      "image/png": "[encoded data removed]",
      "text/plain": [
       "<Figure size 432x288 with 1 Axes>"
      ]
     },
     "metadata": {},
     "output_type": "display_data"
    },
    {
     "name": "stdout",
     "output_type": "stream",
     "text": [
      "\n",
      "0.9736\n",
      "\n",
      "run: relu @ (400, 400)\n",
      "CPU times: user 4min 26s, sys: 6min 47s, total: 11min 14s\n",
      "Wall time: 43.7 s\n"
     ]
    },
    {
     "data": {
      "image/png": "[encoded data removed]",
      "text/plain": [
       "<Figure size 432x288 with 1 Axes>"
      ]
     },
     "metadata": {},
     "output_type": "display_data"
    },
    {
     "name": "stdout",
     "output_type": "stream",
     "text": [
      "\n",
      "0.9624\n",
      "\n",
      "run: relu @ (300, 300)\n",
      "CPU times: user 4min 26s, sys: 6min 42s, total: 11min 8s\n",
      "Wall time: 43.7 s\n"
     ]
    },
    {
     "data": {
      "image/png": "[encoded data removed]",
      "text/plain": [
       "<Figure size 432x288 with 1 Axes>"
      ]
     },
     "metadata": {},
     "output_type": "display_data"
    },
    {
     "name": "stdout",
     "output_type": "stream",
     "text": [
      "\n",
      "0.9671\n",
      "\n",
      "run: relu @ (200, 200)\n",
      "CPU times: user 5min 38s, sys: 9min 15s, total: 14min 53s\n",
      "Wall time: 59.1 s\n"
     ]
    },
    {
     "data": {
      "image/png": "[encoded data removed]",
      "text/plain": [
       "<Figure size 432x288 with 1 Axes>"
      ]
     },
     "metadata": {},
     "output_type": "display_data"
    },
    {
     "name": "stdout",
     "output_type": "stream",
     "text": [
      "\n",
      "0.9645\n",
      "\n",
      "run: relu @ (100, 100)\n",
      "CPU times: user 4min 40s, sys: 7min 56s, total: 12min 36s\n",
      "Wall time: 51.6 s\n"
     ]
    },
    {
     "data": {
      "image/png": "[encoded data removed]",
      "text/plain": [
       "<Figure size 432x288 with 1 Axes>"
      ]
     },
     "metadata": {},
     "output_type": "display_data"
    },
    {
     "name": "stdout",
     "output_type": "stream",
     "text": [
      "\n",
      "0.9678\n",
      "\n"
     ]
    }
   ],
   "source": [
    "accuracies_per_hlsf = {}\n",
    "for hlsf in hlss:\n",
    "    accuracies_per_hlsf[hlsf] = try_activations(factors, hlss[hlsf])"
   ]
  },
  {
   "cell_type": "code",
   "execution_count": 32,
   "metadata": {},
   "outputs": [
    {
     "data": {
      "text/plain": [
       "{'divby2': array([[0.9638],\n",
       "        [0.9751],\n",
       "        [0.9616],\n",
       "        [0.9697],\n",
       "        [0.9643],\n",
       "        [0.9741],\n",
       "        [0.9633],\n",
       "        [0.9682]]), 'divby3': array([[0.9609],\n",
       "        [0.9619],\n",
       "        [0.9674],\n",
       "        [0.9652],\n",
       "        [0.9738],\n",
       "        [0.9732],\n",
       "        [0.9675],\n",
       "        [0.9643]]), 'divby4': array([[0.968 ],\n",
       "        [0.9646],\n",
       "        [0.9759],\n",
       "        [0.9782],\n",
       "        [0.9698],\n",
       "        [0.9726],\n",
       "        [0.9709],\n",
       "        [0.9694]]), 'equals': array([[0.9672],\n",
       "        [0.9702],\n",
       "        [0.9682],\n",
       "        [0.9736],\n",
       "        [0.9624],\n",
       "        [0.9671],\n",
       "        [0.9645],\n",
       "        [0.9678]])}"
      ]
     },
     "execution_count": 32,
     "metadata": {},
     "output_type": "execute_result"
    }
   ],
   "source": [
    "accuracies_per_hlsf"
   ]
  },
  {
   "cell_type": "code",
   "execution_count": 33,
   "metadata": {},
   "outputs": [],
   "source": [
    "accuracies_list = [\n",
    "    (hlsf, factors[factor], activations[activation], accuracies_per_hlsf[hlsf][factor][activation])\n",
    "    for hlsf in hlss\n",
    "    for factor in range(len(factors))\n",
    "    for activation in range(len(activations))\n",
    "]"
   ]
  },
  {
   "cell_type": "code",
   "execution_count": 34,
   "metadata": {},
   "outputs": [],
   "source": [
    "accuracies = pd.DataFrame(accuracies_list, columns=['hlsf','factor','activation','accuracy'])"
   ]
  },
  {
   "cell_type": "code",
   "execution_count": 35,
   "metadata": {},
   "outputs": [
    {
     "data": {
      "text/html": [
       "<div>\n",
       "<style scoped>\n",
       "    .dataframe tbody tr th:only-of-type {\n",
       "        vertical-align: middle;\n",
       "    }\n",
       "\n",
       "    .dataframe tbody tr th {\n",
       "        vertical-align: top;\n",
       "    }\n",
       "\n",
       "    .dataframe thead th {\n",
       "        text-align: right;\n",
       "    }\n",
       "</style>\n",
       "<table border=\"1\" class=\"dataframe\">\n",
       "  <thead>\n",
       "    <tr style=\"text-align: right;\">\n",
       "      <th></th>\n",
       "      <th>hlsf</th>\n",
       "      <th>factor</th>\n",
       "      <th>activation</th>\n",
       "      <th>accuracy</th>\n",
       "    </tr>\n",
       "  </thead>\n",
       "  <tbody>\n",
       "    <tr>\n",
       "      <th>0</th>\n",
       "      <td>divby2</td>\n",
       "      <td>800</td>\n",
       "      <td>relu</td>\n",
       "      <td>0.9638</td>\n",
       "    </tr>\n",
       "    <tr>\n",
       "      <th>1</th>\n",
       "      <td>divby2</td>\n",
       "      <td>700</td>\n",
       "      <td>relu</td>\n",
       "      <td>0.9751</td>\n",
       "    </tr>\n",
       "    <tr>\n",
       "      <th>2</th>\n",
       "      <td>divby2</td>\n",
       "      <td>600</td>\n",
       "      <td>relu</td>\n",
       "      <td>0.9616</td>\n",
       "    </tr>\n",
       "    <tr>\n",
       "      <th>3</th>\n",
       "      <td>divby2</td>\n",
       "      <td>500</td>\n",
       "      <td>relu</td>\n",
       "      <td>0.9697</td>\n",
       "    </tr>\n",
       "    <tr>\n",
       "      <th>4</th>\n",
       "      <td>divby2</td>\n",
       "      <td>400</td>\n",
       "      <td>relu</td>\n",
       "      <td>0.9643</td>\n",
       "    </tr>\n",
       "    <tr>\n",
       "      <th>5</th>\n",
       "      <td>divby2</td>\n",
       "      <td>300</td>\n",
       "      <td>relu</td>\n",
       "      <td>0.9741</td>\n",
       "    </tr>\n",
       "    <tr>\n",
       "      <th>6</th>\n",
       "      <td>divby2</td>\n",
       "      <td>200</td>\n",
       "      <td>relu</td>\n",
       "      <td>0.9633</td>\n",
       "    </tr>\n",
       "    <tr>\n",
       "      <th>7</th>\n",
       "      <td>divby2</td>\n",
       "      <td>100</td>\n",
       "      <td>relu</td>\n",
       "      <td>0.9682</td>\n",
       "    </tr>\n",
       "    <tr>\n",
       "      <th>8</th>\n",
       "      <td>divby3</td>\n",
       "      <td>800</td>\n",
       "      <td>relu</td>\n",
       "      <td>0.9609</td>\n",
       "    </tr>\n",
       "    <tr>\n",
       "      <th>9</th>\n",
       "      <td>divby3</td>\n",
       "      <td>700</td>\n",
       "      <td>relu</td>\n",
       "      <td>0.9619</td>\n",
       "    </tr>\n",
       "    <tr>\n",
       "      <th>10</th>\n",
       "      <td>divby3</td>\n",
       "      <td>600</td>\n",
       "      <td>relu</td>\n",
       "      <td>0.9674</td>\n",
       "    </tr>\n",
       "    <tr>\n",
       "      <th>11</th>\n",
       "      <td>divby3</td>\n",
       "      <td>500</td>\n",
       "      <td>relu</td>\n",
       "      <td>0.9652</td>\n",
       "    </tr>\n",
       "    <tr>\n",
       "      <th>12</th>\n",
       "      <td>divby3</td>\n",
       "      <td>400</td>\n",
       "      <td>relu</td>\n",
       "      <td>0.9738</td>\n",
       "    </tr>\n",
       "    <tr>\n",
       "      <th>13</th>\n",
       "      <td>divby3</td>\n",
       "      <td>300</td>\n",
       "      <td>relu</td>\n",
       "      <td>0.9732</td>\n",
       "    </tr>\n",
       "    <tr>\n",
       "      <th>14</th>\n",
       "      <td>divby3</td>\n",
       "      <td>200</td>\n",
       "      <td>relu</td>\n",
       "      <td>0.9675</td>\n",
       "    </tr>\n",
       "    <tr>\n",
       "      <th>15</th>\n",
       "      <td>divby3</td>\n",
       "      <td>100</td>\n",
       "      <td>relu</td>\n",
       "      <td>0.9643</td>\n",
       "    </tr>\n",
       "    <tr>\n",
       "      <th>16</th>\n",
       "      <td>divby4</td>\n",
       "      <td>800</td>\n",
       "      <td>relu</td>\n",
       "      <td>0.9680</td>\n",
       "    </tr>\n",
       "    <tr>\n",
       "      <th>17</th>\n",
       "      <td>divby4</td>\n",
       "      <td>700</td>\n",
       "      <td>relu</td>\n",
       "      <td>0.9646</td>\n",
       "    </tr>\n",
       "    <tr>\n",
       "      <th>18</th>\n",
       "      <td>divby4</td>\n",
       "      <td>600</td>\n",
       "      <td>relu</td>\n",
       "      <td>0.9759</td>\n",
       "    </tr>\n",
       "    <tr>\n",
       "      <th>19</th>\n",
       "      <td>divby4</td>\n",
       "      <td>500</td>\n",
       "      <td>relu</td>\n",
       "      <td>0.9782</td>\n",
       "    </tr>\n",
       "    <tr>\n",
       "      <th>20</th>\n",
       "      <td>divby4</td>\n",
       "      <td>400</td>\n",
       "      <td>relu</td>\n",
       "      <td>0.9698</td>\n",
       "    </tr>\n",
       "    <tr>\n",
       "      <th>21</th>\n",
       "      <td>divby4</td>\n",
       "      <td>300</td>\n",
       "      <td>relu</td>\n",
       "      <td>0.9726</td>\n",
       "    </tr>\n",
       "    <tr>\n",
       "      <th>22</th>\n",
       "      <td>divby4</td>\n",
       "      <td>200</td>\n",
       "      <td>relu</td>\n",
       "      <td>0.9709</td>\n",
       "    </tr>\n",
       "    <tr>\n",
       "      <th>23</th>\n",
       "      <td>divby4</td>\n",
       "      <td>100</td>\n",
       "      <td>relu</td>\n",
       "      <td>0.9694</td>\n",
       "    </tr>\n",
       "    <tr>\n",
       "      <th>24</th>\n",
       "      <td>equals</td>\n",
       "      <td>800</td>\n",
       "      <td>relu</td>\n",
       "      <td>0.9672</td>\n",
       "    </tr>\n",
       "    <tr>\n",
       "      <th>25</th>\n",
       "      <td>equals</td>\n",
       "      <td>700</td>\n",
       "      <td>relu</td>\n",
       "      <td>0.9702</td>\n",
       "    </tr>\n",
       "    <tr>\n",
       "      <th>26</th>\n",
       "      <td>equals</td>\n",
       "      <td>600</td>\n",
       "      <td>relu</td>\n",
       "      <td>0.9682</td>\n",
       "    </tr>\n",
       "    <tr>\n",
       "      <th>27</th>\n",
       "      <td>equals</td>\n",
       "      <td>500</td>\n",
       "      <td>relu</td>\n",
       "      <td>0.9736</td>\n",
       "    </tr>\n",
       "    <tr>\n",
       "      <th>28</th>\n",
       "      <td>equals</td>\n",
       "      <td>400</td>\n",
       "      <td>relu</td>\n",
       "      <td>0.9624</td>\n",
       "    </tr>\n",
       "    <tr>\n",
       "      <th>29</th>\n",
       "      <td>equals</td>\n",
       "      <td>300</td>\n",
       "      <td>relu</td>\n",
       "      <td>0.9671</td>\n",
       "    </tr>\n",
       "    <tr>\n",
       "      <th>30</th>\n",
       "      <td>equals</td>\n",
       "      <td>200</td>\n",
       "      <td>relu</td>\n",
       "      <td>0.9645</td>\n",
       "    </tr>\n",
       "    <tr>\n",
       "      <th>31</th>\n",
       "      <td>equals</td>\n",
       "      <td>100</td>\n",
       "      <td>relu</td>\n",
       "      <td>0.9678</td>\n",
       "    </tr>\n",
       "  </tbody>\n",
       "</table>\n",
       "</div>"
      ],
      "text/plain": [
       "      hlsf  factor activation  accuracy\n",
       "0   divby2     800       relu    0.9638\n",
       "1   divby2     700       relu    0.9751\n",
       "2   divby2     600       relu    0.9616\n",
       "3   divby2     500       relu    0.9697\n",
       "4   divby2     400       relu    0.9643\n",
       "5   divby2     300       relu    0.9741\n",
       "6   divby2     200       relu    0.9633\n",
       "7   divby2     100       relu    0.9682\n",
       "8   divby3     800       relu    0.9609\n",
       "9   divby3     700       relu    0.9619\n",
       "10  divby3     600       relu    0.9674\n",
       "11  divby3     500       relu    0.9652\n",
       "12  divby3     400       relu    0.9738\n",
       "13  divby3     300       relu    0.9732\n",
       "14  divby3     200       relu    0.9675\n",
       "15  divby3     100       relu    0.9643\n",
       "16  divby4     800       relu    0.9680\n",
       "17  divby4     700       relu    0.9646\n",
       "18  divby4     600       relu    0.9759\n",
       "19  divby4     500       relu    0.9782\n",
       "20  divby4     400       relu    0.9698\n",
       "21  divby4     300       relu    0.9726\n",
       "22  divby4     200       relu    0.9709\n",
       "23  divby4     100       relu    0.9694\n",
       "24  equals     800       relu    0.9672\n",
       "25  equals     700       relu    0.9702\n",
       "26  equals     600       relu    0.9682\n",
       "27  equals     500       relu    0.9736\n",
       "28  equals     400       relu    0.9624\n",
       "29  equals     300       relu    0.9671\n",
       "30  equals     200       relu    0.9645\n",
       "31  equals     100       relu    0.9678"
      ]
     },
     "execution_count": 35,
     "metadata": {},
     "output_type": "execute_result"
    }
   ],
   "source": [
    "accuracies"
   ]
  },
  {
   "cell_type": "code",
   "execution_count": 36,
   "metadata": {},
   "outputs": [
    {
     "data": {
      "text/html": [
       "<div>\n",
       "<style scoped>\n",
       "    .dataframe tbody tr th:only-of-type {\n",
       "        vertical-align: middle;\n",
       "    }\n",
       "\n",
       "    .dataframe tbody tr th {\n",
       "        vertical-align: top;\n",
       "    }\n",
       "\n",
       "    .dataframe thead th {\n",
       "        text-align: right;\n",
       "    }\n",
       "</style>\n",
       "<table border=\"1\" class=\"dataframe\">\n",
       "  <thead>\n",
       "    <tr style=\"text-align: right;\">\n",
       "      <th></th>\n",
       "      <th>hlsf</th>\n",
       "      <th>factor</th>\n",
       "      <th>activation</th>\n",
       "      <th>accuracy</th>\n",
       "    </tr>\n",
       "  </thead>\n",
       "  <tbody>\n",
       "    <tr>\n",
       "      <th>19</th>\n",
       "      <td>divby4</td>\n",
       "      <td>500</td>\n",
       "      <td>relu</td>\n",
       "      <td>0.9782</td>\n",
       "    </tr>\n",
       "  </tbody>\n",
       "</table>\n",
       "</div>"
      ],
      "text/plain": [
       "      hlsf  factor activation  accuracy\n",
       "19  divby4     500       relu    0.9782"
      ]
     },
     "execution_count": 36,
     "metadata": {},
     "output_type": "execute_result"
    }
   ],
   "source": [
    "accuracies.iloc[[accuracies['accuracy'].idxmax()]]"
   ]
  },
  {
   "cell_type": "code",
   "execution_count": 37,
   "metadata": {},
   "outputs": [],
   "source": [
    "accuracies.to_csv('accuracies.csv')"
   ]
  },
  {
   "cell_type": "code",
   "execution_count": 38,
   "metadata": {},
   "outputs": [
    {
     "data": {
      "text/html": [
       "<div>\n",
       "<style scoped>\n",
       "    .dataframe tbody tr th:only-of-type {\n",
       "        vertical-align: middle;\n",
       "    }\n",
       "\n",
       "    .dataframe tbody tr th {\n",
       "        vertical-align: top;\n",
       "    }\n",
       "\n",
       "    .dataframe thead th {\n",
       "        text-align: right;\n",
       "    }\n",
       "</style>\n",
       "<table border=\"1\" class=\"dataframe\">\n",
       "  <thead>\n",
       "    <tr style=\"text-align: right;\">\n",
       "      <th></th>\n",
       "      <th>hlsf</th>\n",
       "      <th>factor</th>\n",
       "      <th>activation</th>\n",
       "      <th>accuracy</th>\n",
       "    </tr>\n",
       "  </thead>\n",
       "  <tbody>\n",
       "    <tr>\n",
       "      <th>19</th>\n",
       "      <td>divby4</td>\n",
       "      <td>500</td>\n",
       "      <td>relu</td>\n",
       "      <td>0.9782</td>\n",
       "    </tr>\n",
       "    <tr>\n",
       "      <th>18</th>\n",
       "      <td>divby4</td>\n",
       "      <td>600</td>\n",
       "      <td>relu</td>\n",
       "      <td>0.9759</td>\n",
       "    </tr>\n",
       "    <tr>\n",
       "      <th>1</th>\n",
       "      <td>divby2</td>\n",
       "      <td>700</td>\n",
       "      <td>relu</td>\n",
       "      <td>0.9751</td>\n",
       "    </tr>\n",
       "    <tr>\n",
       "      <th>5</th>\n",
       "      <td>divby2</td>\n",
       "      <td>300</td>\n",
       "      <td>relu</td>\n",
       "      <td>0.9741</td>\n",
       "    </tr>\n",
       "    <tr>\n",
       "      <th>12</th>\n",
       "      <td>divby3</td>\n",
       "      <td>400</td>\n",
       "      <td>relu</td>\n",
       "      <td>0.9738</td>\n",
       "    </tr>\n",
       "    <tr>\n",
       "      <th>27</th>\n",
       "      <td>equals</td>\n",
       "      <td>500</td>\n",
       "      <td>relu</td>\n",
       "      <td>0.9736</td>\n",
       "    </tr>\n",
       "    <tr>\n",
       "      <th>13</th>\n",
       "      <td>divby3</td>\n",
       "      <td>300</td>\n",
       "      <td>relu</td>\n",
       "      <td>0.9732</td>\n",
       "    </tr>\n",
       "    <tr>\n",
       "      <th>21</th>\n",
       "      <td>divby4</td>\n",
       "      <td>300</td>\n",
       "      <td>relu</td>\n",
       "      <td>0.9726</td>\n",
       "    </tr>\n",
       "    <tr>\n",
       "      <th>22</th>\n",
       "      <td>divby4</td>\n",
       "      <td>200</td>\n",
       "      <td>relu</td>\n",
       "      <td>0.9709</td>\n",
       "    </tr>\n",
       "    <tr>\n",
       "      <th>25</th>\n",
       "      <td>equals</td>\n",
       "      <td>700</td>\n",
       "      <td>relu</td>\n",
       "      <td>0.9702</td>\n",
       "    </tr>\n",
       "    <tr>\n",
       "      <th>20</th>\n",
       "      <td>divby4</td>\n",
       "      <td>400</td>\n",
       "      <td>relu</td>\n",
       "      <td>0.9698</td>\n",
       "    </tr>\n",
       "    <tr>\n",
       "      <th>3</th>\n",
       "      <td>divby2</td>\n",
       "      <td>500</td>\n",
       "      <td>relu</td>\n",
       "      <td>0.9697</td>\n",
       "    </tr>\n",
       "    <tr>\n",
       "      <th>23</th>\n",
       "      <td>divby4</td>\n",
       "      <td>100</td>\n",
       "      <td>relu</td>\n",
       "      <td>0.9694</td>\n",
       "    </tr>\n",
       "    <tr>\n",
       "      <th>26</th>\n",
       "      <td>equals</td>\n",
       "      <td>600</td>\n",
       "      <td>relu</td>\n",
       "      <td>0.9682</td>\n",
       "    </tr>\n",
       "    <tr>\n",
       "      <th>7</th>\n",
       "      <td>divby2</td>\n",
       "      <td>100</td>\n",
       "      <td>relu</td>\n",
       "      <td>0.9682</td>\n",
       "    </tr>\n",
       "    <tr>\n",
       "      <th>16</th>\n",
       "      <td>divby4</td>\n",
       "      <td>800</td>\n",
       "      <td>relu</td>\n",
       "      <td>0.9680</td>\n",
       "    </tr>\n",
       "    <tr>\n",
       "      <th>31</th>\n",
       "      <td>equals</td>\n",
       "      <td>100</td>\n",
       "      <td>relu</td>\n",
       "      <td>0.9678</td>\n",
       "    </tr>\n",
       "    <tr>\n",
       "      <th>14</th>\n",
       "      <td>divby3</td>\n",
       "      <td>200</td>\n",
       "      <td>relu</td>\n",
       "      <td>0.9675</td>\n",
       "    </tr>\n",
       "    <tr>\n",
       "      <th>10</th>\n",
       "      <td>divby3</td>\n",
       "      <td>600</td>\n",
       "      <td>relu</td>\n",
       "      <td>0.9674</td>\n",
       "    </tr>\n",
       "    <tr>\n",
       "      <th>24</th>\n",
       "      <td>equals</td>\n",
       "      <td>800</td>\n",
       "      <td>relu</td>\n",
       "      <td>0.9672</td>\n",
       "    </tr>\n",
       "    <tr>\n",
       "      <th>29</th>\n",
       "      <td>equals</td>\n",
       "      <td>300</td>\n",
       "      <td>relu</td>\n",
       "      <td>0.9671</td>\n",
       "    </tr>\n",
       "    <tr>\n",
       "      <th>11</th>\n",
       "      <td>divby3</td>\n",
       "      <td>500</td>\n",
       "      <td>relu</td>\n",
       "      <td>0.9652</td>\n",
       "    </tr>\n",
       "    <tr>\n",
       "      <th>17</th>\n",
       "      <td>divby4</td>\n",
       "      <td>700</td>\n",
       "      <td>relu</td>\n",
       "      <td>0.9646</td>\n",
       "    </tr>\n",
       "    <tr>\n",
       "      <th>30</th>\n",
       "      <td>equals</td>\n",
       "      <td>200</td>\n",
       "      <td>relu</td>\n",
       "      <td>0.9645</td>\n",
       "    </tr>\n",
       "    <tr>\n",
       "      <th>15</th>\n",
       "      <td>divby3</td>\n",
       "      <td>100</td>\n",
       "      <td>relu</td>\n",
       "      <td>0.9643</td>\n",
       "    </tr>\n",
       "    <tr>\n",
       "      <th>4</th>\n",
       "      <td>divby2</td>\n",
       "      <td>400</td>\n",
       "      <td>relu</td>\n",
       "      <td>0.9643</td>\n",
       "    </tr>\n",
       "    <tr>\n",
       "      <th>0</th>\n",
       "      <td>divby2</td>\n",
       "      <td>800</td>\n",
       "      <td>relu</td>\n",
       "      <td>0.9638</td>\n",
       "    </tr>\n",
       "    <tr>\n",
       "      <th>6</th>\n",
       "      <td>divby2</td>\n",
       "      <td>200</td>\n",
       "      <td>relu</td>\n",
       "      <td>0.9633</td>\n",
       "    </tr>\n",
       "    <tr>\n",
       "      <th>28</th>\n",
       "      <td>equals</td>\n",
       "      <td>400</td>\n",
       "      <td>relu</td>\n",
       "      <td>0.9624</td>\n",
       "    </tr>\n",
       "    <tr>\n",
       "      <th>9</th>\n",
       "      <td>divby3</td>\n",
       "      <td>700</td>\n",
       "      <td>relu</td>\n",
       "      <td>0.9619</td>\n",
       "    </tr>\n",
       "    <tr>\n",
       "      <th>2</th>\n",
       "      <td>divby2</td>\n",
       "      <td>600</td>\n",
       "      <td>relu</td>\n",
       "      <td>0.9616</td>\n",
       "    </tr>\n",
       "    <tr>\n",
       "      <th>8</th>\n",
       "      <td>divby3</td>\n",
       "      <td>800</td>\n",
       "      <td>relu</td>\n",
       "      <td>0.9609</td>\n",
       "    </tr>\n",
       "  </tbody>\n",
       "</table>\n",
       "</div>"
      ],
      "text/plain": [
       "      hlsf  factor activation  accuracy\n",
       "19  divby4     500       relu    0.9782\n",
       "18  divby4     600       relu    0.9759\n",
       "1   divby2     700       relu    0.9751\n",
       "5   divby2     300       relu    0.9741\n",
       "12  divby3     400       relu    0.9738\n",
       "27  equals     500       relu    0.9736\n",
       "13  divby3     300       relu    0.9732\n",
       "21  divby4     300       relu    0.9726\n",
       "22  divby4     200       relu    0.9709\n",
       "25  equals     700       relu    0.9702\n",
       "20  divby4     400       relu    0.9698\n",
       "3   divby2     500       relu    0.9697\n",
       "23  divby4     100       relu    0.9694\n",
       "26  equals     600       relu    0.9682\n",
       "7   divby2     100       relu    0.9682\n",
       "16  divby4     800       relu    0.9680\n",
       "31  equals     100       relu    0.9678\n",
       "14  divby3     200       relu    0.9675\n",
       "10  divby3     600       relu    0.9674\n",
       "24  equals     800       relu    0.9672\n",
       "29  equals     300       relu    0.9671\n",
       "11  divby3     500       relu    0.9652\n",
       "17  divby4     700       relu    0.9646\n",
       "30  equals     200       relu    0.9645\n",
       "15  divby3     100       relu    0.9643\n",
       "4   divby2     400       relu    0.9643\n",
       "0   divby2     800       relu    0.9638\n",
       "6   divby2     200       relu    0.9633\n",
       "28  equals     400       relu    0.9624\n",
       "9   divby3     700       relu    0.9619\n",
       "2   divby2     600       relu    0.9616\n",
       "8   divby3     800       relu    0.9609"
      ]
     },
     "execution_count": 38,
     "metadata": {},
     "output_type": "execute_result"
    }
   ],
   "source": [
    "accuracies.sort_values('accuracy', ascending=False)"
   ]
  }
 ],
 "metadata": {
  "kernelspec": {
   "display_name": "conda_python3",
   "language": "python",
   "name": "conda_python3"
  },
  "language_info": {
   "codemirror_mode": {
    "name": "ipython",
    "version": 3
   },
   "file_extension": ".py",
   "mimetype": "text/x-python",
   "name": "python",
   "nbconvert_exporter": "python",
   "pygments_lexer": "ipython3",
   "version": "3.6.5"
  }
 },
 "nbformat": 4,
 "nbformat_minor": 2
}
